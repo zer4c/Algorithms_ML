{
 "cells": [
  {
   "cell_type": "markdown",
   "id": "c8e5d6dd",
   "metadata": {},
   "source": [
    "# Datos meteorologicos de Bolivia - cochabamba\n",
    "Este dataset viene por parte de SENAMHI, generado desde 01/01/2011-09/01/2025 con formato MM-DD-YYYY\n",
    "con las estaciones SARCO del departamento de cochabamba."
   ]
  },
  {
   "cell_type": "code",
   "execution_count": null,
   "id": "e0118eef",
   "metadata": {},
   "outputs": [],
   "source": [
    "import polars as pl\n",
    "import  matplotlib.pyplot as plt \n",
    "import numpy as np\n",
    "from sklearn.linear_model import LinearRegression\n",
    "from sklearn.metrics import mean_squared_error\n"
   ]
  },
  {
   "cell_type": "code",
   "execution_count": null,
   "id": "7a3f7d92",
   "metadata": {},
   "outputs": [],
   "source": [
    "df = pl.read_excel(\"tiempo.xlsx\")\n",
    "df"
   ]
  },
  {
   "cell_type": "code",
   "execution_count": null,
   "id": "93932362",
   "metadata": {},
   "outputs": [],
   "source": [
    "cont_null = df.null_count()\n",
    "cont_null = cont_null.row(0)\n",
    "cont_null"
   ]
  },
  {
   "cell_type": "code",
   "execution_count": null,
   "id": "54d0a1cc",
   "metadata": {},
   "outputs": [],
   "source": [
    "remove_col = []\n",
    "for i, col in enumerate(df.columns):\n",
    "    if(cont_null[i] > 2000):\n",
    "        remove_col.append(col)"
   ]
  },
  {
   "cell_type": "code",
   "execution_count": null,
   "id": "dece81db",
   "metadata": {},
   "outputs": [],
   "source": [
    "remove_col = remove_col+[\"gestion\", \"dia\", \"mes\", \"estacion\", \"latitud\",\"longitud\", \"altura\", \"ETo\"]\n",
    "df = df.drop(remove_col)"
   ]
  },
  {
   "cell_type": "code",
   "execution_count": null,
   "id": "4dd55b69",
   "metadata": {},
   "outputs": [],
   "source": [
    "df"
   ]
  },
  {
   "cell_type": "code",
   "execution_count": null,
   "id": "c9abee6a",
   "metadata": {},
   "outputs": [],
   "source": [
    "df = df.with_columns(pl.all().cast(pl.Float64))\n",
    "df"
   ]
  },
  {
   "cell_type": "code",
   "execution_count": null,
   "id": "c3d8b46b",
   "metadata": {},
   "outputs": [],
   "source": [
    "medians = df.median()\n",
    "medians = medians.row(0)\n",
    "medians"
   ]
  },
  {
   "cell_type": "code",
   "execution_count": null,
   "id": "49c0e4f5",
   "metadata": {},
   "outputs": [],
   "source": [
    "for i, col in enumerate(df.columns):\n",
    "    df = df.fill_null(medians[i]).with_columns(pl.col(col))"
   ]
  },
  {
   "cell_type": "code",
   "execution_count": null,
   "id": "086dc340",
   "metadata": {},
   "outputs": [],
   "source": [
    "df"
   ]
  },
  {
   "cell_type": "code",
   "execution_count": null,
   "id": "992aed4d",
   "metadata": {},
   "outputs": [],
   "source": [
    "df.null_count()"
   ]
  },
  {
   "cell_type": "code",
   "execution_count": null,
   "id": "a954a145",
   "metadata": {},
   "outputs": [],
   "source": [
    "fig, ax = plt.subplots()\n",
    "ax.scatter(df[\"\\\"Humedad Relativa Máxima\\\"\"], df[\"Precipitación\"])\n",
    "ax.set_ylabel(\"Precipitacion\")\n",
    "ax.set_xlabel(\"Humedad Relativa\")\n",
    "plt.show()"
   ]
  },
  {
   "cell_type": "code",
   "execution_count": null,
   "id": "d73cedb6",
   "metadata": {},
   "outputs": [],
   "source": [
    "fig, ax = plt.subplots()\n",
    "ax.scatter(df[\"\\\"Humedad Relativa Máxima\\\"\"], df[\"\\\"Temperatura Máxima\\\"\"])\n",
    "ax.set_ylabel(\"Temperatura maxima\")\n",
    "ax.set_xlabel(\"Humedad Relativa\")\n",
    "plt.show()"
   ]
  },
  {
   "cell_type": "code",
   "execution_count": null,
   "id": "e4ebb0ea",
   "metadata": {},
   "outputs": [],
   "source": [
    "data_y = df[\"Precipitación\"].to_numpy().flatten()\n",
    "data_y"
   ]
  },
  {
   "cell_type": "code",
   "execution_count": null,
   "id": "ed501ccd",
   "metadata": {},
   "outputs": [],
   "source": [
    "df.drop_in_place(\"Precipitación\")\n",
    "df"
   ]
  },
  {
   "cell_type": "code",
   "execution_count": null,
   "id": "1e02c413",
   "metadata": {},
   "outputs": [],
   "source": [
    "data_x = df.to_numpy()\n",
    "data_x"
   ]
  },
  {
   "cell_type": "code",
   "execution_count": null,
   "id": "523197ab",
   "metadata": {},
   "outputs": [],
   "source": [
    "def prepare_dataset(data: np.ndarray) -> tuple[np.ndarray,np.ndarray]:\n",
    "    porcen = (int) (0.8*len(data))\n",
    "    data_test = data[porcen:]\n",
    "    data_train = data[:porcen]\n",
    "    return data_train, data_test"
   ]
  },
  {
   "cell_type": "code",
   "execution_count": null,
   "id": "62ef4cec",
   "metadata": {},
   "outputs": [],
   "source": [
    "x_train, x_test = prepare_dataset(data_x)\n",
    "y_train, y_test = prepare_dataset(data_y)"
   ]
  },
  {
   "cell_type": "code",
   "execution_count": null,
   "id": "148dfeec",
   "metadata": {},
   "outputs": [],
   "source": [
    "lin_reg = LinearRegression(positive=True)\n",
    "lin_reg.fit(x_train,y_train)"
   ]
  },
  {
   "cell_type": "code",
   "execution_count": null,
   "id": "7e0ea301",
   "metadata": {},
   "outputs": [],
   "source": [
    "y_pred = lin_reg.predict(x_test)"
   ]
  },
  {
   "cell_type": "code",
   "execution_count": null,
   "id": "7be5721d",
   "metadata": {},
   "outputs": [],
   "source": [
    "mean_squared_error(y_test, y_pred)"
   ]
  },
  {
   "cell_type": "markdown",
   "id": "f056d4ec",
   "metadata": {},
   "source": [
    "Probamos con datos actuales"
   ]
  },
  {
   "cell_type": "code",
   "execution_count": null,
   "id": "610ffcde",
   "metadata": {},
   "outputs": [],
   "source": [
    "df[0]"
   ]
  },
  {
   "cell_type": "code",
   "execution_count": null,
   "id": "96af6168",
   "metadata": {},
   "outputs": [],
   "source": [
    "dato_actual = np.array([[33.0,23.0,33.0,19.0,25.0,23.4,11.0,2.0,0.0]])\n"
   ]
  },
  {
   "cell_type": "code",
   "execution_count": null,
   "id": "a91b3913",
   "metadata": {},
   "outputs": [],
   "source": [
    "prediccion = lin_reg.predict(dato_actual)\n",
    "prediccion"
   ]
  },
  {
   "cell_type": "code",
   "execution_count": null,
   "id": "45447a1f",
   "metadata": {},
   "outputs": [],
   "source": []
  }
 ],
 "metadata": {
  "kernelspec": {
   "display_name": ".venv (3.11.11)",
   "language": "python",
   "name": "python3"
  },
  "language_info": {
   "codemirror_mode": {
    "name": "ipython",
    "version": 3
   },
   "file_extension": ".py",
   "mimetype": "text/x-python",
   "name": "python",
   "nbconvert_exporter": "python",
   "pygments_lexer": "ipython3",
   "version": "3.11.11"
  }
 },
 "nbformat": 4,
 "nbformat_minor": 5
}
