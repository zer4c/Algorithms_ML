{
 "cells": [
  {
   "cell_type": "markdown",
   "id": "4e5fc593",
   "metadata": {},
   "source": [
    "# Prediccion de datos\n",
    "Este dataset viene desde world bank group, climate change knowledge Portal, Contiene 3 tipos de datos\n",
    "- Average mean surface air temperature (tas)\n",
    "- Relative Humidity (hurs)\n",
    "- Precipitation (pr)\n",
    "\n",
    "Son datos mensuales de Bolivia desde 1950 hasta 2023\n"
   ]
  },
  {
   "cell_type": "code",
   "execution_count": null,
   "id": "a4422f7c",
   "metadata": {},
   "outputs": [],
   "source": [
    "import polars as pl\n",
    "import json\n",
    "import matplotlib.pyplot as plt\n",
    "import numpy as np\n",
    "from sklearn.linear_model import LinearRegression\n",
    "from sklearn.metrics import mean_absolute_percentage_error"
   ]
  },
  {
   "cell_type": "code",
   "execution_count": null,
   "id": "a59f3c76",
   "metadata": {},
   "outputs": [],
   "source": [
    "df = pl.read_json(\"datasets/temperatures.json\")\n",
    "df"
   ]
  },
  {
   "cell_type": "code",
   "execution_count": null,
   "id": "163407cf",
   "metadata": {},
   "outputs": [],
   "source": [
    "def __load_data():\n",
    "    with open(\"datasets/temperatures.json\", 'r', encoding='utf-8') as archivo:\n",
    "        return json.load(archivo)\n"
   ]
  },
  {
   "cell_type": "code",
   "execution_count": null,
   "id": "90e99226",
   "metadata": {},
   "outputs": [],
   "source": [
    "data_json = __load_data()\n",
    "print(data_json)"
   ]
  },
  {
   "cell_type": "code",
   "execution_count": null,
   "id": "1f4ffc16",
   "metadata": {},
   "outputs": [],
   "source": [
    "data_dict = {}\n",
    "for col in data_json.keys():\n",
    "    lista = list(data_json[col].values())\n",
    "    data_dict[col] = lista\n",
    "print(data_dict)\n",
    "print(data_dict.keys())\n",
    "    "
   ]
  },
  {
   "cell_type": "code",
   "execution_count": null,
   "id": "5d0b9f66",
   "metadata": {},
   "outputs": [],
   "source": [
    "df = pl.DataFrame(data_dict)\n",
    "df"
   ]
  },
  {
   "cell_type": "code",
   "execution_count": null,
   "id": "dfee5c6f",
   "metadata": {},
   "outputs": [],
   "source": [
    "df.describe()"
   ]
  },
  {
   "cell_type": "code",
   "execution_count": null,
   "id": "5b947f05",
   "metadata": {},
   "outputs": [],
   "source": [
    "fig , ax = plt.subplots()\n",
    "ax.scatter(df[\"hurs\"], df[\"pr\"])\n",
    "ax.set_xlabel(\"Humedad relativa\")\n",
    "ax.set_ylabel(\"Precipitacion [mm]\")\n",
    "plt.show()"
   ]
  },
  {
   "cell_type": "code",
   "execution_count": null,
   "id": "1f1dcadb",
   "metadata": {},
   "outputs": [],
   "source": [
    "fig , ax = plt.subplots()\n",
    "ax.scatter(df[\"tas\"], df[\"pr\"])\n",
    "ax.set_xlabel(\"Temperatura media en superficie\")\n",
    "ax.set_ylabel(\"Precipitacion [mm]\")\n",
    "plt.show()"
   ]
  },
  {
   "cell_type": "code",
   "execution_count": null,
   "id": "cd6915e9",
   "metadata": {},
   "outputs": [],
   "source": [
    "fig = plt.figure()\n",
    "ax = fig.add_subplot(projection='3d')\n",
    "ax.scatter(df[\"hurs\"], df[\"tas\"], df[\"pr\"])\n",
    "plt.show()"
   ]
  },
  {
   "cell_type": "code",
   "execution_count": null,
   "id": "f12b87ed",
   "metadata": {},
   "outputs": [],
   "source": [
    "y_data = df[\"pr\"].to_numpy().flatten()\n",
    "df.drop_in_place(\"pr\")\n",
    "x_data = df.to_numpy()\n"
   ]
  },
  {
   "cell_type": "code",
   "execution_count": null,
   "id": "51a30833",
   "metadata": {},
   "outputs": [],
   "source": [
    "def prepare_dataset(data):\n",
    "    divi = int(0.8*len(data))\n",
    "    test = data[divi:]\n",
    "    train = data[:divi]\n",
    "    return train, test"
   ]
  },
  {
   "cell_type": "code",
   "execution_count": null,
   "id": "301009b5",
   "metadata": {},
   "outputs": [],
   "source": [
    "x_train, x_test = prepare_dataset(x_data)\n",
    "y_train, y_test = prepare_dataset(y_data)\n",
    "print(len(x_train))\n",
    "print(len(y_train))"
   ]
  },
  {
   "cell_type": "code",
   "execution_count": null,
   "id": "9101fc9b",
   "metadata": {},
   "outputs": [],
   "source": [
    "lin_reg = LinearRegression()\n",
    "lin_reg.fit(x_train, y_train)"
   ]
  },
  {
   "cell_type": "code",
   "execution_count": null,
   "id": "3bc2a433",
   "metadata": {},
   "outputs": [],
   "source": [
    "y_pred = lin_reg.predict(x_test)\n",
    "y_pred[:1]"
   ]
  },
  {
   "cell_type": "code",
   "execution_count": null,
   "id": "29746133",
   "metadata": {},
   "outputs": [],
   "source": [
    "mean_absolute_percentage_error(y_test, y_pred)"
   ]
  },
  {
   "cell_type": "code",
   "execution_count": null,
   "id": "5bd65b9f",
   "metadata": {},
   "outputs": [],
   "source": [
    "fig, ax = plt.subplots(subplot_kw={\"projection\": \"3d\"}, figsize=(12, 8))\n",
    "\n",
    "ax.scatter(x_train[:,0], x_train[:,1], y_train, c='cyan', marker='x', alpha=0.3)\n",
    "\n",
    "hurs_range = np.linspace(x_train[:, 0].min(), x_train[:, 0].max(), 20)\n",
    "tas_range = np.linspace(x_train[:, 1].min(), x_train[:, 1].max(), 20)\n",
    "hurs_mesh, tas_mesh = np.meshgrid(hurs_range, tas_range)\n",
    "\n",
    "pr_mesh = lin_reg.intercept_ + (lin_reg.coef_[0] * hurs_mesh) + (lin_reg.coef_[1] * tas_mesh)\n",
    "surface = ax.plot_surface(hurs_mesh, tas_mesh, pr_mesh, alpha=0.2, color='red')\n",
    "\n",
    "ax.set_xlabel('HURS')\n",
    "ax.set_ylabel('TAS')\n",
    "ax.set_zlabel('PR')\n",
    "plt.show()"
   ]
  },
  {
   "cell_type": "code",
   "execution_count": null,
   "id": "215d4986",
   "metadata": {},
   "outputs": [],
   "source": [
    "fig, ax = plt.subplots(figsize=(10, 6))\n",
    "\n",
    "y_graph = lin_reg.intercept_ + (lin_reg.coef_[0]*x_train[:,0])+(lin_reg.coef_[1]*x_train[:, 1].mean())\n",
    "\n",
    "ax.scatter(x_train[:,0], y_train, alpha=0.5,c='blue')\n",
    "ax.plot(x_train[:,0], y_graph, 'r', linewidth=2)\n",
    "ax.set_xlabel('HURS')\n",
    "ax.set_ylabel('PR')\n",
    "plt.show()"
   ]
  },
  {
   "cell_type": "code",
   "execution_count": null,
   "id": "d7ff074c",
   "metadata": {},
   "outputs": [],
   "source": [
    "fig, ax = plt.subplots()\n",
    "y_graph = lin_reg.intercept_ +(lin_reg.coef_[0]*x_train[:, 0].mean()) +(lin_reg.coef_[1]*x_train[:,1])\n",
    "\n",
    "ax.scatter(x_train[:,1], y_train, alpha=0.5, c='blue')\n",
    "ax.plot(x_train[:,1], y_graph, 'r', linewidth=2)\n",
    "ax.set_xlabel('TAS')\n",
    "ax.set_ylabel('PR')\n",
    "\n",
    "plt.tight_layout()\n",
    "plt.show()"
   ]
  }
 ],
 "metadata": {
  "kernelspec": {
   "display_name": "machinescesi (3.11.11)",
   "language": "python",
   "name": "python3"
  },
  "language_info": {
   "codemirror_mode": {
    "name": "ipython",
    "version": 3
   },
   "file_extension": ".py",
   "mimetype": "text/x-python",
   "name": "python",
   "nbconvert_exporter": "python",
   "pygments_lexer": "ipython3",
   "version": "3.11.11"
  }
 },
 "nbformat": 4,
 "nbformat_minor": 5
}
