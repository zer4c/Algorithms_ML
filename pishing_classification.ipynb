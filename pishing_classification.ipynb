{
 "cells": [
  {
   "cell_type": "code",
   "execution_count": null,
   "id": "446a48e3",
   "metadata": {},
   "outputs": [],
   "source": [
    "import polars as pl\n",
    "import matplotlib.pyplot as plt\n",
    "import numpy as np\n",
    "import re\n",
    "import nltk \n",
    "import string\n",
    "\n",
    "from nltk.stem import PorterStemmer\n",
    "from sklearn.linear_model import LogisticRegression\n",
    "from nltk.tokenize import word_tokenize\n",
    "\n",
    "#nltk.download('punkt')\n",
    "#nltk.download('punkt_tab')\n",
    "#nltk.download('stopwords')"
   ]
  },
  {
   "cell_type": "code",
   "execution_count": null,
   "id": "b50fbffc",
   "metadata": {},
   "outputs": [],
   "source": [
    "ps = PorterStemmer()\n",
    "stopwords = set(nltk.corpus.stopwords.words('english'))"
   ]
  },
  {
   "cell_type": "code",
   "execution_count": null,
   "id": "1c7d327f",
   "metadata": {},
   "outputs": [],
   "source": [
    "df = pl.read_csv(\"./datasets/Phishing_Email.csv\")\n",
    "df = df.with_columns([pl.col(\"Email Text\").cast(pl.Utf8)])\n",
    "df = df.fill_nan(\"empty\").with_columns(pl.col(\"Email Text\"))\n",
    "df = df.fill_null(\"empty\").with_columns(pl.col(\"Email Text\"))"
   ]
  },
  {
   "cell_type": "code",
   "execution_count": null,
   "id": "605e6de7",
   "metadata": {},
   "outputs": [],
   "source": [
    "print(df)"
   ]
  },
  {
   "cell_type": "code",
   "execution_count": null,
   "id": "b03b1cfe",
   "metadata": {},
   "outputs": [],
   "source": [
    "def remove_links(text) -> str:\n",
    "\tpattern = re.compile('(http|https)://[^\\s]+')\n",
    "\treturn pattern.sub('', text)"
   ]
  },
  {
   "cell_type": "code",
   "execution_count": null,
   "id": "fb3bd35d",
   "metadata": {},
   "outputs": [],
   "source": [
    "def stemming_text(text: str) -> str:\n",
    "    if not text:\n",
    "        return \"empty\"\n",
    "    text = text.translate(str.maketrans('', '', string.punctuation))\n",
    "    tokens = (word for word in word_tokenize(text) if word not in stopwords)\n",
    "    stemmed = {ps.stem(word) for word in tokens}\n",
    "    stemmed = list(filter(None, stemmed))\n",
    "    if len(stemmed) == 1:\n",
    "        return stemmed[0]\n",
    "    if len(stemmed) == 0:\n",
    "        return \"empty\"\n",
    "    return \" \".join([word for word in stemmed if len(word) > 2])"
   ]
  },
  {
   "cell_type": "code",
   "execution_count": null,
   "id": "519df9a3",
   "metadata": {},
   "outputs": [],
   "source": [
    "df = df.with_columns(pl.col(\"Email Text\").map_elements(remove_links,return_dtype=pl.Utf8).alias(\"Email Text\"))"
   ]
  },
  {
   "cell_type": "code",
   "execution_count": null,
   "id": "596b5dcd",
   "metadata": {},
   "outputs": [],
   "source": [
    "df = df.with_columns(pl.col(\"Email Text\").map_elements(stemming_text,return_dtype=pl.Utf8).alias(\"Email Text\"))\n"
   ]
  },
  {
   "cell_type": "code",
   "execution_count": null,
   "id": "fb1f9726",
   "metadata": {},
   "outputs": [],
   "source": [
    "print(df)"
   ]
  },
  {
   "cell_type": "code",
   "execution_count": null,
   "id": "d4d160a7",
   "metadata": {},
   "outputs": [],
   "source": [
    "divid = int(len(df) * 0.7)\n",
    "df_train = df[:divid]\n",
    "df_test = df[divid:]"
   ]
  },
  {
   "cell_type": "code",
   "execution_count": null,
   "id": "a297886a",
   "metadata": {},
   "outputs": [],
   "source": [
    "from sklearn.feature_extraction.text import CountVectorizer\n",
    "\n",
    "vectorizer = CountVectorizer()\n",
    "clf = LogisticRegression()\n",
    "\n",
    "x_train = df_train[\"Email Text\"].to_list()\n",
    "x_train = vectorizer.fit_transform(x_train)\n"
   ]
  },
  {
   "cell_type": "code",
   "execution_count": null,
   "id": "00e944d7",
   "metadata": {},
   "outputs": [],
   "source": [
    "import pandas as pd\n",
    "\n",
    "pd.DataFrame(x_train.toarray(), columns=[vectorizer.get_feature_names_out()])"
   ]
  },
  {
   "cell_type": "code",
   "execution_count": null,
   "id": "212cb251",
   "metadata": {},
   "outputs": [],
   "source": [
    "clf.fit(x_train, df_train[\"Email Type\"])"
   ]
  },
  {
   "cell_type": "code",
   "execution_count": null,
   "id": "53f0d499",
   "metadata": {},
   "outputs": [],
   "source": [
    "x_test = df_test[\"Email Text\"].to_list()\n",
    "x_test = vectorizer.transform(x_test)\n"
   ]
  },
  {
   "cell_type": "code",
   "execution_count": null,
   "id": "aa3e403e",
   "metadata": {},
   "outputs": [],
   "source": [
    "y_pred = clf.predict(x_test)"
   ]
  },
  {
   "cell_type": "code",
   "execution_count": null,
   "id": "2bb27efd",
   "metadata": {},
   "outputs": [],
   "source": [
    "y_pred"
   ]
  },
  {
   "cell_type": "code",
   "execution_count": null,
   "id": "b7eb2516",
   "metadata": {},
   "outputs": [],
   "source": [
    "from sklearn.metrics import accuracy_score\n",
    "\n",
    "print('Accuracy: {:.3f}'.format(accuracy_score(df_test[\"Email Type\"], y_pred)))   "
   ]
  },
  {
   "cell_type": "code",
   "execution_count": null,
   "id": "e1767db0",
   "metadata": {},
   "outputs": [],
   "source": [
    "from sklearn.metrics import confusion_matrix\n",
    "\n",
    "\n",
    "cm = confusion_matrix(df_test[\"Email Type\"], y_pred)\n",
    "\n",
    "fig, ax = plt.subplots(figsize=(8, 6))\n",
    "cax = ax.matshow(cm, cmap=plt.cm.Blues)\n",
    "fig.colorbar(cax)\n",
    "\n",
    "ax.set_xticks(np.arange(len(cm)))\n",
    "ax.set_yticks(np.arange(len(cm)))\n",
    "ax.set_xticklabels(['Pishing', 'Safe Email'])\n",
    "ax.set_yticklabels(['Pishing', 'Safe Email'])\n",
    "plt.xlabel('Predicciones')\n",
    "plt.ylabel('Valores Reales')\n",
    "plt.title('Matriz de Confusión')\n",
    "\n",
    "for (i, j), val in np.ndenumerate(cm):\n",
    "    ax.text(j, i, val, ha='center', va='center', color='black', fontsize=12)\n",
    "\n",
    "plt.show()"
   ]
  },
  {
   "cell_type": "code",
   "execution_count": null,
   "id": "fcd27b8c",
   "metadata": {},
   "outputs": [],
   "source": [
    "cont_err_safe = 0\n",
    "cont_err_phishing = 0\n",
    "for i in range(len(y_pred)):\n",
    "    if y_pred[i] != df_test[\"Email Type\"][i]:\n",
    "        if y_pred[i] == \"Safe Email\":\n",
    "            cont_err_safe += 1\n",
    "        else:\n",
    "            cont_err_phishing += 1"
   ]
  },
  {
   "cell_type": "code",
   "execution_count": null,
   "id": "0072f569",
   "metadata": {},
   "outputs": [],
   "source": [
    "print(cont_err_safe)"
   ]
  },
  {
   "cell_type": "code",
   "execution_count": null,
   "id": "3025c691",
   "metadata": {},
   "outputs": [],
   "source": [
    "safe_percent_err = (cont_err_safe / df_test.filter(pl.col(\"Email Type\") == \"Safe Email\").height) * 100\n",
    "phishing_percent_err = (cont_err_phishing / df_test.filter(pl.col(\"Email Type\") == \"Phishing Email\").height) * 100\n",
    "err_total = ((cont_err_safe + cont_err_phishing) / df_test.height) * 100 \n",
    "\n",
    "print(safe_percent_err)\n",
    "print(phishing_percent_err)\n",
    "print(err_total)"
   ]
  },
  {
   "cell_type": "code",
   "execution_count": null,
   "id": "43e155a5",
   "metadata": {},
   "outputs": [],
   "source": [
    "plt.bar(['safe prediction error','pishing prediction error'], [safe_percent_err, phishing_percent_err], color=['cyan', 'cyan'])\n",
    "plt.title('Porcentaje de error en predicciones')"
   ]
  },
  {
   "cell_type": "markdown",
   "id": "3d6434ea",
   "metadata": {},
   "source": [
    "# Probando Modelo con otro dataset"
   ]
  },
  {
   "cell_type": "code",
   "execution_count": null,
   "id": "5916c524",
   "metadata": {},
   "outputs": [],
   "source": [
    "df_big_test = pl.read_csv(\"./datasets/phishing_email.csv\")\n",
    "df_big_test"
   ]
  },
  {
   "cell_type": "code",
   "execution_count": null,
   "id": "9ff54f8b",
   "metadata": {},
   "outputs": [],
   "source": [
    "df_big_test = df_big_test.with_columns(\n",
    "\tpl.when(pl.col(\"label\") == 0)\n",
    "\t.then(pl.lit(\"Safe Email\"))\n",
    "\t.otherwise(pl.lit(\"Phishing Email\"))\n",
    "\t.alias(\"label\")\n",
    ")"
   ]
  },
  {
   "cell_type": "code",
   "execution_count": null,
   "id": "b742bd9a",
   "metadata": {},
   "outputs": [],
   "source": [
    "print(df_big_test)\n",
    "print(df)"
   ]
  },
  {
   "cell_type": "code",
   "execution_count": null,
   "id": "86c0d8e4",
   "metadata": {},
   "outputs": [],
   "source": [
    "#df_big_test = df_big_test.with_columns(pl.col('text_combined').map_elements(remove_links, return_dtype=pl.Utf8).alias(\"text_combined\"))\n",
    "#df_big_test = df_big_test.with_columns(pl.col(\"text_combined\").map_elements(stemming_text, return_dtype=pl.Utf8).alias(\"text_combined\"))"
   ]
  },
  {
   "cell_type": "code",
   "execution_count": null,
   "id": "969d1741",
   "metadata": {},
   "outputs": [],
   "source": [
    "#df_big_test.write_csv(\"./datasets/phishing_email_cleaned.csv\")"
   ]
  },
  {
   "cell_type": "code",
   "execution_count": null,
   "id": "b12f6ff3",
   "metadata": {},
   "outputs": [],
   "source": [
    "df_big_test = pl.read_csv(\"./datasets/phishing_email_cleaned.csv\")"
   ]
  },
  {
   "cell_type": "code",
   "execution_count": null,
   "id": "4d7f5ec3",
   "metadata": {},
   "outputs": [],
   "source": [
    "print(df_big_test)"
   ]
  },
  {
   "cell_type": "code",
   "execution_count": null,
   "id": "96ed5702",
   "metadata": {},
   "outputs": [],
   "source": [
    "x_big_test = df_big_test[\"text_combined\"].to_list()\n",
    "x_big_test = vectorizer.transform(x_big_test)"
   ]
  },
  {
   "cell_type": "code",
   "execution_count": null,
   "id": "de6ad875",
   "metadata": {},
   "outputs": [],
   "source": [
    "y_big_pred = clf.predict(x_big_test)\n",
    "y_big_pred"
   ]
  },
  {
   "cell_type": "code",
   "execution_count": null,
   "id": "5473a082",
   "metadata": {},
   "outputs": [],
   "source": [
    "print(accuracy_score(df_big_test[\"label\"], y_big_pred))"
   ]
  },
  {
   "cell_type": "code",
   "execution_count": null,
   "id": "5b1d6a8f",
   "metadata": {},
   "outputs": [],
   "source": [
    "cm2 = confusion_matrix(df_big_test[\"label\"], y_big_pred)\n",
    "cm2"
   ]
  },
  {
   "cell_type": "code",
   "execution_count": null,
   "id": "abfdd984",
   "metadata": {},
   "outputs": [],
   "source": [
    "cm2[1][0]"
   ]
  },
  {
   "cell_type": "code",
   "execution_count": null,
   "id": "4b0f7396",
   "metadata": {},
   "outputs": [],
   "source": [
    "err_big_safe = (cm2[0][1]/df_big_test.filter(pl.col(\"label\") == \"Safe Email\").height) * 100\n",
    "err_big_phishing = (cm2[1][0]/df_big_test.filter(pl.col(\"label\") == \"Phishing Email\").height) * 100\n",
    "total_err_big = ((cm2[0][1] + cm2[1][0]) / df_big_test.height) * 100"
   ]
  },
  {
   "cell_type": "code",
   "execution_count": null,
   "id": "b12bd66e",
   "metadata": {},
   "outputs": [],
   "source": [
    "plt.bar(['safe prediction error','pishing prediction error'], [err_big_safe,err_big_phishing ], color=['cyan', 'cyan'])"
   ]
  },
  {
   "cell_type": "markdown",
   "id": "620ac7a8",
   "metadata": {},
   "source": [
    "# Opiniones\n",
    "Probando con muchos datos, al haber sido entrenado con pocos ejemplos a comparacion. unos 13 mil con los casi 90mil de test, dando un una precision de 88.1% podria decirse que es un modelo bueno, pero viendo que escalando el modelo, este se queda corto por todos los preprocesamientos de datos, ya que eliminan informacion, el primer dataset es uno muy limitado en cuanto a informacion. En cambio con el 2do dataset que tiene muchisima mas informacion como el destinatario como recibido de, correos, etc. Al ignorar esta informacion y con los preprocesamientos de datos pierde muchisima mas informacion igualando a una peor(1er dataset), esto tambien es una explicacion del porque dio tantos errores el 20% dando falsos positivos. El 2do dataset tiene mas correos \"malos\", si igualariamos la precision del modelo seria muchisimo menos."
   ]
  },
  {
   "cell_type": "markdown",
   "id": "de1fcf9c",
   "metadata": {},
   "source": [
    "# Probando igualando"
   ]
  },
  {
   "cell_type": "code",
   "execution_count": null,
   "id": "00661850",
   "metadata": {},
   "outputs": [],
   "source": [
    "safe_emails = df_big_test.filter(pl.col(\"label\") == \"Safe Email\").head(39595)\n",
    "phishing_emails = df_big_test.filter(pl.col(\"label\") == \"Phishing Email\").head(39595)\n",
    "df_big_test_equal = pl.concat([safe_emails, phishing_emails])\n",
    "print(df_big_test_equal.shape)"
   ]
  },
  {
   "cell_type": "code",
   "execution_count": null,
   "id": "9ff9b66c",
   "metadata": {},
   "outputs": [],
   "source": [
    "x_big_test2 = df_big_test_equal[\"text_combined\"].to_list()\n",
    "x_big_test2 = vectorizer.transform(x_big_test2)\n",
    "\n",
    "y_big_pred2 = clf.predict(x_big_test2)\n",
    "y_big_pred2"
   ]
  },
  {
   "cell_type": "code",
   "execution_count": null,
   "id": "c8e0e1f7",
   "metadata": {},
   "outputs": [],
   "source": [
    "print(accuracy_score(df_big_test_equal[\"label\"], y_big_pred2))"
   ]
  },
  {
   "cell_type": "code",
   "execution_count": null,
   "id": "89921b5d",
   "metadata": {},
   "outputs": [],
   "source": [
    "cm3 = confusion_matrix(df_big_test_equal[\"label\"], y_big_pred2)\n",
    "cm3"
   ]
  },
  {
   "cell_type": "code",
   "execution_count": null,
   "id": "78b6b4ae",
   "metadata": {},
   "outputs": [],
   "source": [
    "err_big_safe2 = (cm3[0][1]/df_big_test_equal.filter(pl.col(\"label\") == \"Safe Email\").height) * 100\n",
    "err_big_phishing2 = (cm3[1][0]/df_big_test_equal.filter(pl.col(\"label\") == \"Phishing Email\").height) * 100\n",
    "total_err_big2 = ((cm3[0][1] + cm3[1][0]) / df_big_test_equal.height) * 100\n",
    "\n",
    "print(err_big_safe2)\n",
    "print(err_big_phishing2)\n",
    "print(total_err_big2)\n",
    "\n",
    "plt.bar(['safe prediction error','pishing prediction error'], [err_big_safe2,err_big_phishing2 ], color=['cyan', 'cyan'])"
   ]
  },
  {
   "cell_type": "code",
   "execution_count": null,
   "id": "b21eaa30",
   "metadata": {},
   "outputs": [],
   "source": []
  }
 ],
 "metadata": {
  "kernelspec": {
   "display_name": ".venv (3.11.11)",
   "language": "python",
   "name": "python3"
  },
  "language_info": {
   "codemirror_mode": {
    "name": "ipython",
    "version": 3
   },
   "file_extension": ".py",
   "mimetype": "text/x-python",
   "name": "python",
   "nbconvert_exporter": "python",
   "pygments_lexer": "ipython3",
   "version": "3.11.11"
  }
 },
 "nbformat": 4,
 "nbformat_minor": 5
}
